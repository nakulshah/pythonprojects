{
 "cells": [
  {
   "cell_type": "code",
   "execution_count": 3,
   "id": "3fd6a571-1e42-4220-9654-e2e173081a58",
   "metadata": {},
   "outputs": [
    {
     "name": "stdin",
     "output_type": "stream",
     "text": [
      "Please enter your name:  Nakul\n"
     ]
    },
    {
     "name": "stdout",
     "output_type": "stream",
     "text": [
      "Hello, Nakul! We are going to have a lot of fun with this calculator\n"
     ]
    }
   ],
   "source": [
    "user_input = input(\"Please enter your name: \")\n",
    "print(f\"Hello, {user_input}! We are going to have a lot of fun with this calculator\")"
   ]
  },
  {
   "cell_type": "code",
   "execution_count": 5,
   "id": "835303c7-fe86-4e00-aadf-317eaef285b3",
   "metadata": {
    "tags": []
   },
   "outputs": [
    {
     "name": "stdin",
     "output_type": "stream",
     "text": [
      "Nakul, what operator would you like to use + - * / :  /\n",
      "What is 9/3? 3\n"
     ]
    },
    {
     "name": "stdout",
     "output_type": "stream",
     "text": [
      "Correct!\n"
     ]
    }
   ],
   "source": [
    "import random\n",
    "\n",
    "operator = input(user_input + \", what operator would you like to use + - * / : \")\n",
    "a = random.randint(1, 10)\n",
    "b = random.randint(1, 10)\n",
    "\n",
    "match(operator):\n",
    "    case '+':\n",
    "        c = a + b\n",
    "    case '-':\n",
    "        c = a - b\n",
    "    case '*':\n",
    "        c = a * b\n",
    "    case '/':\n",
    "        c = a / b\n",
    "\n",
    "user_answer = input(f\"What is \" + str(a) + operator + str(b) + \"?\")\n",
    "\n",
    "if(int(user_answer) == c):\n",
    "    print(f\"Correct!\")\n",
    "else:\n",
    "    print(f\"Incorrect! The answer is: {c}.\")\n",
    "\n"
   ]
  }
 ],
 "metadata": {
  "kernelspec": {
   "display_name": "Python 3 (ipykernel)",
   "language": "python",
   "name": "python3"
  },
  "language_info": {
   "codemirror_mode": {
    "name": "ipython",
    "version": 3
   },
   "file_extension": ".py",
   "mimetype": "text/x-python",
   "name": "python",
   "nbconvert_exporter": "python",
   "pygments_lexer": "ipython3",
   "version": "3.12.6"
  },
  "toc-autonumbering": true,
  "toc-showmarkdowntxt": true
 },
 "nbformat": 4,
 "nbformat_minor": 5
}
