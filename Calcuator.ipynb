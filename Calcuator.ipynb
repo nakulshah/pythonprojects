{
 "cells": [
  {
   "cell_type": "code",
   "execution_count": 3,
   "id": "3fd6a571-1e42-4220-9654-e2e173081a58",
   "metadata": {},
   "outputs": [
    {
     "name": "stdin",
     "output_type": "stream",
     "text": [
      "Please enter your name:  Nakul\n"
     ]
    },
    {
     "name": "stdout",
     "output_type": "stream",
     "text": [
      "Hello, Nakul! We are going to have a lot of fun with this calculator\n"
     ]
    }
   ],
   "source": [
    "user_input = input(\"Please enter your name: \")\n",
    "print(f\"Hello, {user_input}! We are going to have a lot of fun with this calculator\")"
   ]
  },
  {
   "cell_type": "code",
   "execution_count": 5,
   "id": "835303c7-fe86-4e00-aadf-317eaef285b3",
   "metadata": {
    "tags": []
   },
   "outputs": [
    {
     "name": "stdin",
     "output_type": "stream",
     "text": [
      "Nakul, what operator would you like to use + - * / :  /\n",
      "What is 9/3? 3\n"
     ]
    },
    {
     "name": "stdout",
     "output_type": "stream",
     "text": [
      "Correct!\n"
     ]
    }
   ],
   "source": [
    "import random\n",
    "\n",
    "operator = input(user_input + \", what operator would you like to use + - * / : \")\n",
    "a = random.randint(1, 10)\n",
    "b = random.randint(1, 10)\n",
    "\n",
    "match(operator):\n",
    "    case '+':\n",
    "        c = a + b\n",
    "    case '-':\n",
    "        c = a - b\n",
    "    case '*':\n",
    "        c = a * b\n",
    "    case '/':\n",
    "        c = a / b\n",
    "\n",
    "user_answer = input(f\"What is \" + str(a) + operator + str(b) + \"?\")\n",
    "\n",
    "if(int(user_answer) == c):\n",
    "    print(f\"Correct!\")\n",
    "else:\n",
    "    print(f\"Incorrect! The answer is: {c}.\")\n",
    "\n"
   ]
  },
  {
   "cell_type": "code",
   "execution_count": 1,
   "id": "904bc3ec-1c5a-4d3e-b544-f083e4f70774",
   "metadata": {
    "tags": []
   },
   "outputs": [],
   "source": [
    "import tkinter as tk\n",
    "from matplotlib import pyplot as plt\n",
    "%matplotlib inline \n",
    "window = tk.Tk()\n",
    "label = tk.Label(window, text=\"Hello, Tkinter!\")\n",
    "label.pack()\n",
    "plt.show()"
   ]
  },
  {
   "cell_type": "code",
   "execution_count": 24,
   "id": "1e887531-922a-4e8d-91cf-e597fd08c016",
   "metadata": {
    "tags": []
   },
   "outputs": [
    {
     "name": "stdout",
     "output_type": "stream",
     "text": [
      "10     52.441429\n",
      "11     77.864219\n",
      "12    109.627095\n",
      "13    148.194245\n",
      "14    192.348134\n",
      "Name: predicted_mean, dtype: float64\n"
     ]
    },
    {
     "name": "stderr",
     "output_type": "stream",
     "text": [
      "/Library/Frameworks/Python.framework/Versions/3.12/lib/python3.12/site-packages/statsmodels/tsa/statespace/sarimax.py:866: UserWarning: Too few observations to estimate starting parameters for ARMA and trend. All parameters except for variances will be set to zeros.\n",
      "  warn('Too few observations to estimate starting parameters%s.'\n",
      "/Library/Frameworks/Python.framework/Versions/3.12/lib/python3.12/site-packages/statsmodels/base/model.py:607: ConvergenceWarning: Maximum Likelihood optimization failed to converge. Check mle_retvals\n",
      "  warnings.warn(\"Maximum Likelihood optimization failed to \"\n"
     ]
    },
    {
     "data": {
      "image/png": "[encoded data removed]",
      "text/plain": [
       "<Figure size 640x480 with 1 Axes>"
      ]
     },
     "metadata": {},
     "output_type": "display_data"
    }
   ],
   "source": [
    "import pandas as pd\n",
    "import matplotlib.pyplot as plt\n",
    "from statsmodels.tsa.arima.model import ARIMA\n",
    "\n",
    "# Sample data\n",
    "data = pd.DataFrame({'value': [0, 1, 1, 2, 3, 5, 8, 13, 21, 34]})\n",
    "\n",
    "# Fit ARIMA model\n",
    "model = ARIMA(data, order=(4, 2, 3))\n",
    "model_fit = model.fit()\n",
    "\n",
    "# Forecast\n",
    "forecast = model_fit.forecast(steps=5)\n",
    "\n",
    "print(forecast)\n",
    "\n",
    "# Plot\n",
    "plt.plot(data)\n",
    "plt.plot(forecast, color='red')\n",
    "plt.show()"
   ]
  },
  {
   "cell_type": "code",
   "execution_count": null,
   "id": "9e2229de-40d5-4332-8a84-42522ed4b29d",
   "metadata": {},
   "outputs": [],
   "source": []
  }
 ],
 "metadata": {
  "kernelspec": {
   "display_name": "Python 3 (ipykernel)",
   "language": "python",
   "name": "python3"
  },
  "language_info": {
   "codemirror_mode": {
    "name": "ipython",
    "version": 3
   },
   "file_extension": ".py",
   "mimetype": "text/x-python",
   "name": "python",
   "nbconvert_exporter": "python",
   "pygments_lexer": "ipython3",
   "version": "3.12.6"
  },
  "toc-autonumbering": true,
  "toc-showmarkdowntxt": true
 },
 "nbformat": 4,
 "nbformat_minor": 5
}
