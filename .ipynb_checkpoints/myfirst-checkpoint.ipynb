{
 "cells": [
  {
   "cell_type": "code",
   "execution_count": 3,
   "id": "834f8ee8-7177-41a9-8e5a-b6a94e6c29fe",
   "metadata": {},
   "outputs": [
    {
     "name": "stdout",
     "output_type": "stream",
     "text": [
      "this is my first notebook\n"
     ]
    }
   ],
   "source": [
    "print('this is my first notebook')"
   ]
  },
  {
   "cell_type": "code",
   "execution_count": null,
   "id": "566c1cf6-c1c8-4c74-b0a1-91c93650e907",
   "metadata": {},
   "outputs": [],
   "source": []
  }
 ],
 "metadata": {
  "kernelspec": {
   "display_name": "Python 3 (ipykernel)",
   "language": "python",
   "name": "python3"
  },
  "language_info": {
   "codemirror_mode": {
    "name": "ipython",
    "version": 3
   },
   "file_extension": ".py",
   "mimetype": "text/x-python",
   "name": "python",
   "nbconvert_exporter": "python",
   "pygments_lexer": "ipython3",
   "version": "3.12.6"
  }
 },
 "nbformat": 4,
 "nbformat_minor": 5
}
